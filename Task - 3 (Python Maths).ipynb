{
 "cells": [
  {
   "cell_type": "markdown",
   "id": "9579d836",
   "metadata": {},
   "source": [
    "## Polar Coordinates\n",
    "\n",
    "### Task:\n",
    "You are given a complex z. Your task is to convert it to polar coordinates."
   ]
  },
  {
   "cell_type": "code",
   "execution_count": 1,
   "id": "7eb5cec7",
   "metadata": {},
   "outputs": [
    {
     "name": "stdout",
     "output_type": "stream",
     "text": [
      "1+2j\n",
      "2.23606797749979\n",
      "1.1071487177940904\n"
     ]
    }
   ],
   "source": [
    "import cmath\n",
    "num = complex(input())\n",
    "\n",
    "print(abs(num))\n",
    "print(cmath.phase(num))"
   ]
  },
  {
   "cell_type": "code",
   "execution_count": null,
   "id": "0e5f1967",
   "metadata": {},
   "outputs": [],
   "source": []
  },
  {
   "cell_type": "markdown",
   "id": "3071a382",
   "metadata": {},
   "source": [
    "## Find Angle MBC\n",
    "\n",
    "Input Format:\n",
    "\n",
    "The first line contains the length of side AB. <br>\n",
    "The second line contains the length of side BC. <br>\n",
    "\n",
    "Constraints:<br>\n",
    "    1. 0<AB<=100 <br>\n",
    "    2. 0<BC<=100 <br>\n",
    "    3. length AB and BC are natural numbers"
   ]
  },
  {
   "cell_type": "code",
   "execution_count": 2,
   "id": "c66ce870",
   "metadata": {},
   "outputs": [
    {
     "name": "stdout",
     "output_type": "stream",
     "text": [
      "10\n",
      "10\n",
      "45°\n"
     ]
    }
   ],
   "source": [
    "import math\n",
    "\n",
    "AB = int(input())\n",
    "BC = int(input())\n",
    "\n",
    "H = math.sqrt(AB**2 + BC**2)\n",
    "H = H/2.0\n",
    "adj = BC/2.0\n",
    "\n",
    "angle = int(round(math.degrees(math.acos(adj/H))))\n",
    "angle = str(angle)\n",
    "print(angle+\"°\")"
   ]
  },
  {
   "cell_type": "code",
   "execution_count": null,
   "id": "4dfcdfe1",
   "metadata": {},
   "outputs": [],
   "source": []
  },
  {
   "cell_type": "markdown",
   "id": "5a1737b7",
   "metadata": {},
   "source": [
    "## Triangle Quest 2\n",
    "\n",
    "You are given a positive integer N.<br>\n",
    "Your task is to print a palindromic triangle of size N."
   ]
  },
  {
   "cell_type": "code",
   "execution_count": 6,
   "id": "665c150f",
   "metadata": {},
   "outputs": [
    {
     "name": "stdout",
     "output_type": "stream",
     "text": [
      "5\n",
      "1\n",
      "121\n",
      "12321\n",
      "1234321\n",
      "123454321\n"
     ]
    }
   ],
   "source": [
    "for i in range(1,int(input())+1):\n",
    "    print(int((10**i-1)/9)**2)"
   ]
  },
  {
   "cell_type": "code",
   "execution_count": null,
   "id": "32f320cd",
   "metadata": {},
   "outputs": [],
   "source": []
  },
  {
   "cell_type": "markdown",
   "id": "85dd7c6b",
   "metadata": {},
   "source": [
    "## Mod Divmod\n",
    "\n",
    "### Task:\n",
    "Read in two integers, a and b, and print three lines.<br>\n",
    "The first line is the integer division a//b (While using Python2 remember to import division from __future__).<br>\n",
    "The second line is the result of the modulo operator: a%b.<br>\n",
    "The third line prints the divmod of a and b."
   ]
  },
  {
   "cell_type": "code",
   "execution_count": 7,
   "id": "68ab4984",
   "metadata": {},
   "outputs": [
    {
     "name": "stdout",
     "output_type": "stream",
     "text": [
      "177\n",
      "10\n",
      "17\n",
      "7\n",
      "(17, 7)\n"
     ]
    }
   ],
   "source": [
    "a = int(input())\n",
    "b = int(input())\n",
    "print(a//b)\n",
    "print(a%b)\n",
    "print(divmod(a,b))"
   ]
  },
  {
   "cell_type": "code",
   "execution_count": null,
   "id": "0742335b",
   "metadata": {},
   "outputs": [],
   "source": []
  },
  {
   "cell_type": "markdown",
   "id": "45e7c3b6",
   "metadata": {},
   "source": [
    "## Power - Mod Power\n",
    "\n",
    "### Task:\n",
    "You are given three integers: a, b, and m, respectively. Print two lines.\n",
    "The first line should print the result of pow(a,b). The second line should print the result of pow(a,b,m)."
   ]
  },
  {
   "cell_type": "code",
   "execution_count": 8,
   "id": "97042c8a",
   "metadata": {},
   "outputs": [
    {
     "name": "stdout",
     "output_type": "stream",
     "text": [
      "3\n",
      "4\n",
      "5\n",
      "81\n",
      "1\n"
     ]
    }
   ],
   "source": [
    "a = int(input())\n",
    "b = int(input())\n",
    "m = int(input())\n",
    "\n",
    "print(pow(a,b))\n",
    "print(pow(a,b,m))"
   ]
  },
  {
   "cell_type": "code",
   "execution_count": null,
   "id": "1cb664ef",
   "metadata": {},
   "outputs": [],
   "source": []
  },
  {
   "cell_type": "markdown",
   "id": "f200750f",
   "metadata": {},
   "source": [
    "## Integers Come In All Sizes\n",
    "\n",
    "### Task:\n",
    "Read four numbers, a, b, c, and d, and print the result of a^b+c^d."
   ]
  },
  {
   "cell_type": "code",
   "execution_count": 10,
   "id": "9083de93",
   "metadata": {},
   "outputs": [
    {
     "name": "stdout",
     "output_type": "stream",
     "text": [
      "9\n",
      "29\n",
      "7\n",
      "27\n",
      "4710194409608608369201743232\n"
     ]
    }
   ],
   "source": [
    "a = int(input())\n",
    "b = int(input())\n",
    "c = int(input())\n",
    "d = int(input())\n",
    "result = a**b+c**d\n",
    "print(result)"
   ]
  },
  {
   "cell_type": "code",
   "execution_count": null,
   "id": "b6fbee0c",
   "metadata": {},
   "outputs": [],
   "source": []
  },
  {
   "cell_type": "markdown",
   "id": "511ced7f",
   "metadata": {},
   "source": [
    "## Triangle Quest\n",
    "\n",
    "You are given a positive integer N. Print a numerical triangle of height N-1 like the one below:<br>\n",
    "\n",
    "1<br>\n",
    "22<br>\n",
    "333<br>\n",
    "4444<br>\n",
    "55555"
   ]
  },
  {
   "cell_type": "code",
   "execution_count": 20,
   "id": "64d3e94d",
   "metadata": {},
   "outputs": [
    {
     "name": "stdout",
     "output_type": "stream",
     "text": [
      "5\n",
      "1\n",
      "22\n",
      "333\n",
      "4444\n"
     ]
    }
   ],
   "source": [
    "for i in range(1, int(input())):\n",
    "    print(((10**i)//9)*i)"
   ]
  },
  {
   "cell_type": "code",
   "execution_count": null,
   "id": "bd20eca9",
   "metadata": {},
   "outputs": [],
   "source": []
  }
 ],
 "metadata": {
  "kernelspec": {
   "display_name": "Python 3",
   "language": "python",
   "name": "python3"
  },
  "language_info": {
   "codemirror_mode": {
    "name": "ipython",
    "version": 3
   },
   "file_extension": ".py",
   "mimetype": "text/x-python",
   "name": "python",
   "nbconvert_exporter": "python",
   "pygments_lexer": "ipython3",
   "version": "3.8.8"
  }
 },
 "nbformat": 4,
 "nbformat_minor": 5
}
